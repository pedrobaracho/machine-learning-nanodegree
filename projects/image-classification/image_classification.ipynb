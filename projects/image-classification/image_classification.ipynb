{
 "cells": [
  {
   "cell_type": "markdown",
   "metadata": {
    "collapsed": true,
    "deletable": true,
    "editable": true
   },
   "source": [
    "# Image Classification\n",
    "In this project, you'll classify images from the [CIFAR-10 dataset](https://www.cs.toronto.edu/~kriz/cifar.html).  The dataset consists of airplanes, dogs, cats, and other objects. You'll preprocess the images, then train a convolutional neural network on all the samples. The images need to be normalized and the labels need to be one-hot encoded.  You'll get to apply what you learned and build a convolutional, max pooling, dropout, and fully connected layers.  At the end, you'll get to see your neural network's predictions on the sample images.\n",
    "## Get the Data\n",
    "Run the following cell to download the [CIFAR-10 dataset for python](https://www.cs.toronto.edu/~kriz/cifar-10-python.tar.gz)."
   ]
  },
  {
   "cell_type": "code",
   "execution_count": null,
   "metadata": {
    "collapsed": false,
    "deletable": true,
    "editable": true
   },
   "outputs": [],
   "source": [
    "\"\"\"\n",
    "DON'T MODIFY ANYTHING IN THIS CELL THAT IS BELOW THIS LINE\n",
    "\"\"\"\n",
    "from urllib.request import urlretrieve\n",
    "from os.path import isfile, isdir\n",
    "from tqdm import tqdm\n",
    "import problem_unittests as tests\n",
    "import tarfile\n",
    "\n",
    "cifar10_dataset_folder_path = 'cifar-10-batches-py'\n",
    "\n",
    "class DLProgress(tqdm):\n",
    "    last_block = 0\n",
    "\n",
    "    def hook(self, block_num=1, block_size=1, total_size=None):\n",
    "        self.total = total_size\n",
    "        self.update((block_num - self.last_block) * block_size)\n",
    "        self.last_block = block_num\n",
    "\n",
    "if not isfile('cifar-10-python.tar.gz'):\n",
    "    with DLProgress(unit='B', unit_scale=True, miniters=1, desc='CIFAR-10 Dataset') as pbar:\n",
    "        urlretrieve(\n",
    "            'https://www.cs.toronto.edu/~kriz/cifar-10-python.tar.gz',\n",
    "            'cifar-10-python.tar.gz',\n",
    "            pbar.hook)\n",
    "\n",
    "if not isdir(cifar10_dataset_folder_path):\n",
    "    with tarfile.open('cifar-10-python.tar.gz') as tar:\n",
    "        tar.extractall()\n",
    "        tar.close()\n",
    "\n",
    "\n",
    "tests.test_folder_path(cifar10_dataset_folder_path)"
   ]
  },
  {
   "cell_type": "markdown",
   "metadata": {
    "deletable": true,
    "editable": true
   },
   "source": [
    "## Explore the Data\n",
    "The dataset is broken into batches to prevent your machine from running out of memory.  The CIFAR-10 dataset consists of 5 batches, named `data_batch_1`, `data_batch_2`, etc.. Each batch contains the labels and images that are one of the following:\n",
    "* airplane\n",
    "* automobile\n",
    "* bird\n",
    "* cat\n",
    "* deer\n",
    "* dog\n",
    "* frog\n",
    "* horse\n",
    "* ship\n",
    "* truck\n",
    "\n",
    "Understanding a dataset is part of making predictions on the data.  Play around with the code cell below by changing the `batch_id` and `sample_id`. The `batch_id` is the id for a batch (1-5). The `sample_id` is the id for a image and label pair in the batch.\n",
    "\n",
    "Ask yourself \"What are all possible labels?\", \"What is the range of values for the image data?\", \"Are the labels in order or random?\".  Answers to questions like these will help you preprocess the data and end up with better predictions."
   ]
  },
  {
   "cell_type": "code",
   "execution_count": null,
   "metadata": {
    "collapsed": false,
    "deletable": true,
    "editable": true
   },
   "outputs": [],
   "source": [
    "%matplotlib inline\n",
    "%config InlineBackend.figure_format = 'retina'\n",
    "\n",
    "import helper\n",
    "import numpy as np\n",
    "from matplotlib import pyplot as plt\n",
    "\n",
    "# Explore the dataset\n",
    "for i in range(1,6):\n",
    "    batch_id = i\n",
    "    sample_id = 5\n",
    "    plt.figure()\n",
    "    helper.display_stats(cifar10_dataset_folder_path, batch_id, sample_id)"
   ]
  },
  {
   "cell_type": "markdown",
   "metadata": {
    "deletable": true,
    "editable": true
   },
   "source": [
    "#### What are all possible labels?"
   ]
  },
  {
   "cell_type": "code",
   "execution_count": null,
   "metadata": {
    "collapsed": false,
    "deletable": true,
    "editable": true
   },
   "outputs": [],
   "source": [
    "print(\"All possible labels: \", helper._load_label_names())"
   ]
  },
  {
   "cell_type": "markdown",
   "metadata": {
    "deletable": true,
    "editable": true
   },
   "source": [
    "#### What is the range of values for the image data?"
   ]
  },
  {
   "cell_type": "code",
   "execution_count": null,
   "metadata": {
    "collapsed": false,
    "deletable": true,
    "editable": true
   },
   "outputs": [],
   "source": [
    "def analyze_image_data(batch_id):\n",
    "    features, labels = helper.load_cfar10_batch(cifar10_dataset_folder_path, batch_id)\n",
    "    sample_id = np.random.randint(0, len(features))\n",
    "    sample_image = features[sample_id]\n",
    "    print(\"Sample image shape:\", sample_image.shape)\n",
    "    print(\"Features min %d, max %d\" % (features.min(), features.max()))\n",
    "    plt.figure()\n",
    "    plt.axis('off')\n",
    "    plt.title('Sample Image')\n",
    "    plt.imshow(sample_image)\n",
    "    colors = ['red', 'green', 'blue']\n",
    "    for color in range(3):\n",
    "        image = np.copy(sample_image)\n",
    "        selector = [x for x in range(3) if x != color] \n",
    "        image[:,:,[selector]] = 0\n",
    "        plt.figure()\n",
    "        plt.axis('off')\n",
    "        plt.title('Image using only ' + colors[color])\n",
    "        plt.imshow(image)\n",
    "    \n",
    "for i in range(1,6):\n",
    "    analyze_image_data(i)"
   ]
  },
  {
   "cell_type": "markdown",
   "metadata": {
    "deletable": true,
    "editable": true
   },
   "source": [
    "**Answer:** Based on the result above, I would infer that the images are 28x28 pixels and 3-channel RGB (0 to 255 on each channel). It could be any 3 color space, but since RGB is the most common and I can eyeball a slightly difference between tones on the single colored images, I'm guessing it is RGB."
   ]
  },
  {
   "cell_type": "markdown",
   "metadata": {
    "deletable": true,
    "editable": true
   },
   "source": [
    "#### Are the labels in order or random?"
   ]
  },
  {
   "cell_type": "code",
   "execution_count": null,
   "metadata": {
    "collapsed": false,
    "deletable": true,
    "editable": true
   },
   "outputs": [],
   "source": [
    "def analyze_label_order(batch_id):\n",
    "    features, labels = helper.load_cfar10_batch(cifar10_dataset_folder_path, batch_id)\n",
    "    print(\"First 20 labels on batch\", batch_id, np.array(helper._load_label_names())[[labels[:20]]])\n",
    "    \n",
    "for i in range(1,6):\n",
    "    analyze_label_order(i)"
   ]
  },
  {
   "cell_type": "markdown",
   "metadata": {
    "deletable": true,
    "editable": true
   },
   "source": [
    "**Answer:** The labels are not ordered."
   ]
  },
  {
   "cell_type": "markdown",
   "metadata": {
    "deletable": true,
    "editable": true
   },
   "source": [
    "## Implement Preprocess Functions\n",
    "### Normalize\n",
    "In the cell below, implement the `normalize` function to take in image data, `x`, and return it as a normalized Numpy array. The values should be in the range of 0 to 1, inclusive.  The return object should be the same shape as `x`."
   ]
  },
  {
   "cell_type": "code",
   "execution_count": null,
   "metadata": {
    "collapsed": false,
    "deletable": true,
    "editable": true
   },
   "outputs": [],
   "source": [
    "def normalize(x):\n",
    "    \"\"\"\n",
    "    Normalize a list of sample image data in the range of 0 to 1\n",
    "    : x: List of image data.  The image shape is (32, 32, 3)\n",
    "    : return: Numpy array of normalize data\n",
    "    \"\"\"\n",
    "    return x / 255\n",
    "\n",
    "\n",
    "\"\"\"\n",
    "DON'T MODIFY ANYTHING IN THIS CELL THAT IS BELOW THIS LINE\n",
    "\"\"\"\n",
    "tests.test_normalize(normalize)"
   ]
  },
  {
   "cell_type": "markdown",
   "metadata": {
    "deletable": true,
    "editable": true
   },
   "source": [
    "### One-hot encode\n",
    "Just like the previous code cell, you'll be implementing a function for preprocessing.  This time, you'll implement the `one_hot_encode` function. The input, `x`, are a list of labels.  Implement the function to return the list of labels as One-Hot encoded Numpy array.  The possible values for labels are 0 to 9. The one-hot encoding function should return the same encoding for each value between each call to `one_hot_encode`.  Make sure to save the map of encodings outside the function.\n",
    "\n",
    "**Hint:**\n",
    "\n",
    "Look into LabelBinarizer in the preprocessing module of sklearn."
   ]
  },
  {
   "cell_type": "code",
   "execution_count": null,
   "metadata": {
    "collapsed": false,
    "deletable": true,
    "editable": true
   },
   "outputs": [],
   "source": [
    "from sklearn.preprocessing import LabelBinarizer\n",
    "\n",
    "def one_hot_encode(x):\n",
    "    \"\"\"\n",
    "    One hot encode a list of sample labels. Return a one-hot encoded vector for each label.\n",
    "    : x: List of sample Labels\n",
    "    : return: Numpy array of one-hot encoded labels\n",
    "    \"\"\"\n",
    "    encoder = LabelBinarizer()\n",
    "    encoder.fit(range(10))\n",
    "    return encoder.transform(x)\n",
    "\n",
    "\n",
    "\"\"\"\n",
    "DON'T MODIFY ANYTHING IN THIS CELL THAT IS BELOW THIS LINE\n",
    "\"\"\"\n",
    "tests.test_one_hot_encode(one_hot_encode)"
   ]
  },
  {
   "cell_type": "markdown",
   "metadata": {
    "deletable": true,
    "editable": true
   },
   "source": [
    "### Randomize Data\n",
    "As you saw from exploring the data above, the order of the samples are randomized.  It doesn't hurt to randomize it again, but you don't need to for this dataset."
   ]
  },
  {
   "cell_type": "markdown",
   "metadata": {
    "deletable": true,
    "editable": true
   },
   "source": [
    "## Preprocess all the data and save it\n",
    "Running the code cell below will preprocess all the CIFAR-10 data and save it to file. The code below also uses 10% of the training data for validation."
   ]
  },
  {
   "cell_type": "code",
   "execution_count": null,
   "metadata": {
    "collapsed": false,
    "deletable": true,
    "editable": true
   },
   "outputs": [],
   "source": [
    "\"\"\"\n",
    "DON'T MODIFY ANYTHING IN THIS CELL\n",
    "\"\"\"\n",
    "# Preprocess Training, Validation, and Testing Data\n",
    "helper.preprocess_and_save_data(cifar10_dataset_folder_path, normalize, one_hot_encode)"
   ]
  },
  {
   "cell_type": "markdown",
   "metadata": {
    "deletable": true,
    "editable": true
   },
   "source": [
    "# Check Point\n",
    "This is your first checkpoint.  If you ever decide to come back to this notebook or have to restart the notebook, you can start from here.  The preprocessed data has been saved to disk."
   ]
  },
  {
   "cell_type": "code",
   "execution_count": 1,
   "metadata": {
    "collapsed": true,
    "deletable": true,
    "editable": true
   },
   "outputs": [],
   "source": [
    "\"\"\"\n",
    "DON'T MODIFY ANYTHING IN THIS CELL\n",
    "\"\"\"\n",
    "import pickle\n",
    "import problem_unittests as tests\n",
    "import helper\n",
    "\n",
    "# Load the Preprocessed Validation data\n",
    "valid_features, valid_labels = pickle.load(open('preprocess_validation.p', mode='rb'))"
   ]
  },
  {
   "cell_type": "markdown",
   "metadata": {
    "deletable": true,
    "editable": true
   },
   "source": [
    "## Build the network\n",
    "For the neural network, you'll build each layer into a function.  Most of the code you've seen has been outside of functions. To test your code more thoroughly, we require that you put each layer in a function.  This allows us to give you better feedback and test for simple mistakes using our unittests before you submit your project.\n",
    "\n",
    ">**Note:** If you're finding it hard to dedicate enough time for this course each week, we've provided a small shortcut to this part of the project. In the next couple of problems, you'll have the option to use classes from the [TensorFlow Layers](https://www.tensorflow.org/api_docs/python/tf/layers) or [TensorFlow Layers (contrib)](https://www.tensorflow.org/api_guides/python/contrib.layers) packages to build each layer, except the layers you build in the \"Convolutional and Max Pooling Layer\" section.  TF Layers is similar to Keras's and TFLearn's abstraction to layers, so it's easy to pickup.\n",
    "\n",
    ">However, if you would like to get the most out of this course, try to solve all the problems _without_ using anything from the TF Layers packages. You **can** still use classes from other packages that happen to have the same name as ones you find in TF Layers! For example, instead of using the TF Layers version of the `conv2d` class, [tf.layers.conv2d](https://www.tensorflow.org/api_docs/python/tf/layers/conv2d), you would want to use the TF Neural Network version of `conv2d`, [tf.nn.conv2d](https://www.tensorflow.org/api_docs/python/tf/nn/conv2d). \n",
    "\n",
    "Let's begin!\n",
    "\n",
    "### Input\n",
    "The neural network needs to read the image data, one-hot encoded labels, and dropout keep probability. Implement the following functions\n",
    "* Implement `neural_net_image_input`\n",
    " * Return a [TF Placeholder](https://www.tensorflow.org/api_docs/python/tf/placeholder)\n",
    " * Set the shape using `image_shape` with batch size set to `None`.\n",
    " * Name the TensorFlow placeholder \"x\" using the TensorFlow `name` parameter in the [TF Placeholder](https://www.tensorflow.org/api_docs/python/tf/placeholder).\n",
    "* Implement `neural_net_label_input`\n",
    " * Return a [TF Placeholder](https://www.tensorflow.org/api_docs/python/tf/placeholder)\n",
    " * Set the shape using `n_classes` with batch size set to `None`.\n",
    " * Name the TensorFlow placeholder \"y\" using the TensorFlow `name` parameter in the [TF Placeholder](https://www.tensorflow.org/api_docs/python/tf/placeholder).\n",
    "* Implement `neural_net_keep_prob_input`\n",
    " * Return a [TF Placeholder](https://www.tensorflow.org/api_docs/python/tf/placeholder) for dropout keep probability.\n",
    " * Name the TensorFlow placeholder \"keep_prob\" using the TensorFlow `name` parameter in the [TF Placeholder](https://www.tensorflow.org/api_docs/python/tf/placeholder).\n",
    "\n",
    "These names will be used at the end of the project to load your saved model.\n",
    "\n",
    "Note: `None` for shapes in TensorFlow allow for a dynamic size."
   ]
  },
  {
   "cell_type": "code",
   "execution_count": 2,
   "metadata": {
    "collapsed": false,
    "deletable": true,
    "editable": true
   },
   "outputs": [
    {
     "name": "stdout",
     "output_type": "stream",
     "text": [
      "Image Input Tests Passed.\n",
      "Label Input Tests Passed.\n",
      "Keep Prob Tests Passed.\n"
     ]
    }
   ],
   "source": [
    "import tensorflow as tf\n",
    "import numpy as np\n",
    "\n",
    "def neural_net_image_input(image_shape):\n",
    "    \"\"\"\n",
    "    Return a Tensor for a batch of image input\n",
    "    : image_shape: Shape of the images\n",
    "    : return: Tensor for image input.\n",
    "    \"\"\"\n",
    "    \n",
    "    return tf.placeholder(tf.float32, shape=(None,) + image_shape, name=\"x\")\n",
    "\n",
    "\n",
    "def neural_net_label_input(n_classes):\n",
    "    \"\"\"\n",
    "    Return a Tensor for a batch of label input\n",
    "    : n_classes: Number of classes\n",
    "    : return: Tensor for label input.\n",
    "    \"\"\"\n",
    "    return tf.placeholder(tf.int32, shape=(None, n_classes), name=\"y\")\n",
    "\n",
    "\n",
    "def neural_net_keep_prob_input():\n",
    "    \"\"\"\n",
    "    Return a Tensor for keep probability\n",
    "    : return: Tensor for keep probability.\n",
    "    \"\"\"\n",
    "    return tf.placeholder(tf.float32, name=\"keep_prob\")\n",
    "\n",
    "\n",
    "\"\"\"\n",
    "DON'T MODIFY ANYTHING IN THIS CELL THAT IS BELOW THIS LINE\n",
    "\"\"\"\n",
    "tf.reset_default_graph()\n",
    "tests.test_nn_image_inputs(neural_net_image_input)\n",
    "tests.test_nn_label_inputs(neural_net_label_input)\n",
    "tests.test_nn_keep_prob_inputs(neural_net_keep_prob_input)"
   ]
  },
  {
   "cell_type": "markdown",
   "metadata": {
    "deletable": true,
    "editable": true
   },
   "source": [
    "### Convolution and Max Pooling Layer\n",
    "Convolution layers have a lot of success with images. For this code cell, you should implement the function `conv2d_maxpool` to apply convolution then max pooling:\n",
    "* Create the weight and bias using `conv_ksize`, `conv_num_outputs` and the shape of `x_tensor`.\n",
    "* Apply a convolution to `x_tensor` using weight and `conv_strides`.\n",
    " * We recommend you use same padding, but you're welcome to use any padding.\n",
    "* Add bias\n",
    "* Add a nonlinear activation to the convolution.\n",
    "* Apply Max Pooling using `pool_ksize` and `pool_strides`.\n",
    " * We recommend you use same padding, but you're welcome to use any padding.\n",
    "\n",
    "**Note:** You **can't** use [TensorFlow Layers](https://www.tensorflow.org/api_docs/python/tf/layers) or [TensorFlow Layers (contrib)](https://www.tensorflow.org/api_guides/python/contrib.layers) for **this** layer, but you can still use TensorFlow's [Neural Network](https://www.tensorflow.org/api_docs/python/tf/nn) package. You may still use the shortcut option for all the **other** layers.\n",
    "\n",
    "** Hint: **\n",
    "\n",
    "When unpacking values as an argument in Python, look into the [unpacking](https://docs.python.org/3/tutorial/controlflow.html#unpacking-argument-lists) operator. "
   ]
  },
  {
   "cell_type": "code",
   "execution_count": 12,
   "metadata": {
    "collapsed": false,
    "deletable": true,
    "editable": true
   },
   "outputs": [
    {
     "name": "stdout",
     "output_type": "stream",
     "text": [
      "Tests Passed\n"
     ]
    }
   ],
   "source": [
    "def conv2d_maxpool(x_tensor, conv_num_outputs, conv_ksize, conv_strides, pool_ksize, pool_strides):\n",
    "    \"\"\"\n",
    "    Apply convolution then max pooling to x_tensor\n",
    "    :param x_tensor: TensorFlow Tensor\n",
    "    :param conv_num_outputs: Number of outputs for the convolutional layer\n",
    "    :param conv_ksize: kernal size 2-D Tuple for the convolutional layer\n",
    "    :param conv_strides: Stride 2-D Tuple for convolution\n",
    "    :param pool_ksize: kernal size 2-D Tuple for pool\n",
    "    :param pool_strides: Stride 2-D Tuple for pool\n",
    "    : return: A tensor that represents convolution and max pooling of x_tensor\n",
    "    \"\"\"\n",
    "    in_shape = x_tensor.shape.as_list()[-1]\n",
    "    \n",
    "    # Weights and biases\n",
    "    conv_weights = tf.Variable(tf.truncated_normal([*conv_ksize, in_shape, conv_num_outputs],\n",
    "                                        mean=0.0, stddev=1.0 / in_shape, dtype=tf.float32))\n",
    "    conv_biases = tf.Variable(tf.zeros([conv_num_outputs]))\n",
    "    \n",
    "    # Convolution and adding biases\n",
    "    conv = tf.nn.conv2d(x_tensor, conv_weights, [1, *conv_strides, 1], \"SAME\")\n",
    "    pre_activation = tf.nn.bias_add(conv, conv_biases)\n",
    "    \n",
    "    # Activation\n",
    "    activation = tf.nn.relu(pre_activation)\n",
    "        \n",
    "    pool = tf.nn.max_pool(activation, [1, *pool_ksize, 1], [1, *pool_strides, 1], \"SAME\")\n",
    "    \n",
    "    return pool\n",
    "\n",
    "\n",
    "\"\"\"\n",
    "DON'T MODIFY ANYTHING IN THIS CELL THAT IS BELOW THIS LINE\n",
    "\"\"\"\n",
    "tests.test_con_pool(conv2d_maxpool)"
   ]
  },
  {
   "cell_type": "markdown",
   "metadata": {
    "deletable": true,
    "editable": true
   },
   "source": [
    "### Flatten Layer\n",
    "Implement the `flatten` function to change the dimension of `x_tensor` from a 4-D tensor to a 2-D tensor.  The output should be the shape (*Batch Size*, *Flattened Image Size*). Shortcut option: you can use classes from the [TensorFlow Layers](https://www.tensorflow.org/api_docs/python/tf/layers) or [TensorFlow Layers (contrib)](https://www.tensorflow.org/api_guides/python/contrib.layers) packages for this layer. For more of a challenge, only use other TensorFlow packages."
   ]
  },
  {
   "cell_type": "code",
   "execution_count": 13,
   "metadata": {
    "collapsed": false,
    "deletable": true,
    "editable": true
   },
   "outputs": [
    {
     "name": "stdout",
     "output_type": "stream",
     "text": [
      "Tests Passed\n"
     ]
    }
   ],
   "source": [
    "def flatten(x_tensor):\n",
    "    \"\"\"\n",
    "    Flatten x_tensor to (Batch Size, Flattened Image Size)\n",
    "    : x_tensor: A tensor of size (Batch Size, ...), where ... are the image dimensions.\n",
    "    : return: A tensor of size (Batch Size, Flattened Image Size).\n",
    "    \"\"\"\n",
    "    s = [-1 if x == None else x for x in x_tensor.get_shape().as_list()]\n",
    "    return tf.reshape(x_tensor, [s[0], s[1] * s[2] * s[3]])\n",
    "\n",
    "\n",
    "\"\"\"\n",
    "DON'T MODIFY ANYTHING IN THIS CELL THAT IS BELOW THIS LINE\n",
    "\"\"\"\n",
    "tests.test_flatten(flatten)"
   ]
  },
  {
   "cell_type": "markdown",
   "metadata": {
    "deletable": true,
    "editable": true
   },
   "source": [
    "### Fully-Connected Layer\n",
    "Implement the `fully_conn` function to apply a fully connected layer to `x_tensor` with the shape (*Batch Size*, *num_outputs*). Shortcut option: you can use classes from the [TensorFlow Layers](https://www.tensorflow.org/api_docs/python/tf/layers) or [TensorFlow Layers (contrib)](https://www.tensorflow.org/api_guides/python/contrib.layers) packages for this layer. For more of a challenge, only use other TensorFlow packages."
   ]
  },
  {
   "cell_type": "code",
   "execution_count": 14,
   "metadata": {
    "collapsed": false,
    "deletable": true,
    "editable": true
   },
   "outputs": [
    {
     "name": "stdout",
     "output_type": "stream",
     "text": [
      "Tests Passed\n"
     ]
    }
   ],
   "source": [
    "def fully_conn(x_tensor, num_outputs):\n",
    "    \"\"\"\n",
    "    Apply a fully connected layer to x_tensor using weight and bias\n",
    "    : x_tensor: A 2-D tensor where the first dimension is batch size.\n",
    "    : num_outputs: The number of output that the new tensor should be.\n",
    "    : return: A 2-D tensor where the second dimension is num_outputs.\n",
    "    \"\"\"\n",
    "    in_shape = x_tensor.shape.as_list()[-1]\n",
    "    \n",
    "    w = tf.Variable(tf.truncated_normal([in_shape, num_outputs],\n",
    "                                        mean=0.0, stddev=1.0 / in_shape, dtype=tf.float32))\n",
    "    b = tf.Variable(tf.zeros([num_outputs]))\n",
    "    \n",
    "    pre_activation = tf.matmul(x_tensor, w) + b\n",
    "      \n",
    "    return tf.nn.relu(pre_activation)\n",
    "\n",
    "\n",
    "\"\"\"\n",
    "DON'T MODIFY ANYTHING IN THIS CELL THAT IS BELOW THIS LINE\n",
    "\"\"\"\n",
    "tests.test_fully_conn(fully_conn)"
   ]
  },
  {
   "cell_type": "markdown",
   "metadata": {
    "deletable": true,
    "editable": true
   },
   "source": [
    "### Output Layer\n",
    "Implement the `output` function to apply a fully connected layer to `x_tensor` with the shape (*Batch Size*, *num_outputs*). Shortcut option: you can use classes from the [TensorFlow Layers](https://www.tensorflow.org/api_docs/python/tf/layers) or [TensorFlow Layers (contrib)](https://www.tensorflow.org/api_guides/python/contrib.layers) packages for this layer. For more of a challenge, only use other TensorFlow packages.\n",
    "\n",
    "**Note:** Activation, softmax, or cross entropy should **not** be applied to this."
   ]
  },
  {
   "cell_type": "code",
   "execution_count": 15,
   "metadata": {
    "collapsed": false,
    "deletable": true,
    "editable": true
   },
   "outputs": [
    {
     "name": "stdout",
     "output_type": "stream",
     "text": [
      "Tests Passed\n"
     ]
    }
   ],
   "source": [
    "def output(x_tensor, num_outputs):\n",
    "    \"\"\"\n",
    "    Apply a output layer to x_tensor using weight and bias\n",
    "    : x_tensor: A 2-D tensor where the first dimension is batch size.\n",
    "    : num_outputs: The number of output that the new tensor should be.\n",
    "    : return: A 2-D tensor where the second dimension is num_outputs.\n",
    "    \"\"\"\n",
    "    in_shape = x_tensor.shape.as_list()[-1]\n",
    "    \n",
    "    w = tf.Variable(tf.truncated_normal([in_shape, num_outputs],\n",
    "                                        mean=0.0, stddev=1.0 / in_shape, dtype=tf.float32))\n",
    "    b = tf.Variable(tf.zeros([num_outputs]))\n",
    "    \n",
    "    return tf.matmul(x_tensor, w) + b\n",
    "\n",
    "\n",
    "\"\"\"\n",
    "DON'T MODIFY ANYTHING IN THIS CELL THAT IS BELOW THIS LINE\n",
    "\"\"\"\n",
    "tests.test_output(output)"
   ]
  },
  {
   "cell_type": "markdown",
   "metadata": {
    "deletable": true,
    "editable": true
   },
   "source": [
    "### Create Convolutional Model\n",
    "Implement the function `conv_net` to create a convolutional neural network model. The function takes in a batch of images, `x`, and outputs logits.  Use the layers you created above to create this model:\n",
    "\n",
    "* Apply 1, 2, or 3 Convolution and Max Pool layers\n",
    "* Apply a Flatten Layer\n",
    "* Apply 1, 2, or 3 Fully Connected Layers\n",
    "* Apply an Output Layer\n",
    "* Return the output\n",
    "* Apply [TensorFlow's Dropout](https://www.tensorflow.org/api_docs/python/tf/nn/dropout) to one or more layers in the model using `keep_prob`. "
   ]
  },
  {
   "cell_type": "code",
   "execution_count": 46,
   "metadata": {
    "collapsed": false,
    "deletable": true,
    "editable": true
   },
   "outputs": [
    {
     "name": "stdout",
     "output_type": "stream",
     "text": [
      "Neural Network Built!\n"
     ]
    }
   ],
   "source": [
    "NUM_CLASSES=10\n",
    "def karpathy_conv_net(x, keep_prob):\n",
    "    # https://cs.stanford.edu/people/karpathy/convnetjs/demo/cifar10.html\n",
    "    # ~51% accuracy on 1 batch\n",
    "    # ~57% accuracy on 5 batch\n",
    "    # ~57% accuracy on test\n",
    "    \n",
    "    x = conv2d_maxpool(x, 3, (5, 5), (1, 1), (2, 2), (2, 2))\n",
    "    x = conv2d_maxpool(x, 16, (5, 5), (1, 1), (2, 2), (2, 2))\n",
    "    x = conv2d_maxpool(x, 20, (5, 5), (1, 1), (2, 2), (2, 2))\n",
    "    x = flatten(x)\n",
    "    x = output(x, 10)\n",
    "    \n",
    "    return x\n",
    "\n",
    "def eric_conv_net(x, keep_prob):\n",
    "    # https://discussions.udacity.com/t/image-classification-not-working/231425/3\n",
    "    # ~51% accuracy on 1 batch\n",
    "    # ~60% accuracy on 5 batch\n",
    "    # ~58% accuracy on test\n",
    "    \n",
    "    x = conv2d_maxpool(x, 96, (3,3), (1,1), (2,2), (2,2))\n",
    "    x = flatten(x)\n",
    "    x = fully_conn(x, 512)\n",
    "    x = output(x, 10)\n",
    "    \n",
    "    return x\n",
    "\n",
    "def gopal_conv_net(x, keep_prob):\n",
    "    # https://discussions.udacity.com/t/network-does-not-learn-no-2/231391/29\n",
    "    # ~52% accuracy on 1 batch\n",
    "    # ~43% accuracy on 5 batch\n",
    "    # ~42% accuracy on test\n",
    "    \n",
    "    x = conv2d_maxpool(x, 16, (4, 4), (1, 1), (2, 2), (2, 2))\n",
    "    x = conv2d_maxpool(x, 32, (4, 4), (1, 1), (2, 2), (2, 2))\n",
    "    x = conv2d_maxpool(x, 64, (4, 4), (1, 1), (2, 2), (2, 2))\n",
    "    x = flatten(x)\n",
    "    x = fully_conn(x, 10)\n",
    "    x = tf.nn.dropout(x, keep_prob)\n",
    "    x = fully_conn(x, 10)\n",
    "    x = tf.nn.dropout(x, keep_prob)\n",
    "    x = output(x, 10)\n",
    "    \n",
    "    return x\n",
    "\n",
    "def my_conv_net(x, keep_prob):\n",
    "    # A mix of karpathy's and gopal's architectures\n",
    "    # ~45% accuracy on 1 batch\n",
    "    # ~51% accuracy on 5 batch\n",
    "    # ~51% accuracy on test\n",
    "    x = conv2d_maxpool(x, 3, (5, 5), (1, 1), (2, 2), (2, 2))\n",
    "    x = conv2d_maxpool(x, 16, (5, 5), (1, 1), (2, 2), (2, 2))\n",
    "    x = conv2d_maxpool(x, 20, (5, 5), (1, 1), (2, 2), (2, 2))\n",
    "    x = flatten(x)\n",
    "    x = fully_conn(x, 20)\n",
    "    x = tf.nn.dropout(x, keep_prob)\n",
    "    x = output(x, 10)\n",
    "    \n",
    "    return x\n",
    "    \n",
    "\n",
    "def conv_net(x, keep_prob):\n",
    "    return karpathy_conv_net(x, keep_prob)\n",
    "\n",
    "\n",
    "\"\"\"\n",
    "DON'T MODIFY ANYTHING IN THIS CELL THAT IS BELOW THIS LINE\n",
    "\"\"\"\n",
    "\n",
    "##############################\n",
    "## Build the Neural Network ##\n",
    "##############################\n",
    "\n",
    "# Remove previous weights, bias, inputs, etc..\n",
    "tf.reset_default_graph()\n",
    "\n",
    "# Inputs\n",
    "x = neural_net_image_input((32, 32, 3))\n",
    "y = neural_net_label_input(10)\n",
    "keep_prob = neural_net_keep_prob_input()\n",
    "\n",
    "# Model\n",
    "logits = conv_net(x, keep_prob)\n",
    "\n",
    "# Name logits Tensor, so that is can be loaded from disk after training\n",
    "logits = tf.identity(logits, name='logits')\n",
    "\n",
    "# Loss and Optimizer\n",
    "cost = tf.reduce_mean(tf.nn.softmax_cross_entropy_with_logits(logits=logits, labels=y))\n",
    "optimizer = tf.train.AdamOptimizer().minimize(cost)\n",
    "\n",
    "tf.train.AdadeltaOptimizer()\n",
    "\n",
    "# Accuracy\n",
    "correct_pred = tf.equal(tf.argmax(logits, 1), tf.argmax(y, 1))\n",
    "accuracy = tf.reduce_mean(tf.cast(correct_pred, tf.float32), name='accuracy')\n",
    "\n",
    "tests.test_conv_net(conv_net)"
   ]
  },
  {
   "cell_type": "markdown",
   "metadata": {
    "deletable": true,
    "editable": true
   },
   "source": [
    "## Train the Neural Network\n",
    "### Single Optimization\n",
    "Implement the function `train_neural_network` to do a single optimization.  The optimization should use `optimizer` to optimize in `session` with a `feed_dict` of the following:\n",
    "* `x` for image input\n",
    "* `y` for labels\n",
    "* `keep_prob` for keep probability for dropout\n",
    "\n",
    "This function will be called for each batch, so `tf.global_variables_initializer()` has already been called.\n",
    "\n",
    "Note: Nothing needs to be returned. This function is only optimizing the neural network."
   ]
  },
  {
   "cell_type": "code",
   "execution_count": 47,
   "metadata": {
    "collapsed": false,
    "deletable": true,
    "editable": true
   },
   "outputs": [
    {
     "name": "stdout",
     "output_type": "stream",
     "text": [
      "Tests Passed\n"
     ]
    }
   ],
   "source": [
    "def train_neural_network(session, optimizer, keep_probability, feature_batch, label_batch):\n",
    "    \"\"\"\n",
    "    Optimize the session on a batch of images and labels\n",
    "    : session: Current TensorFlow session\n",
    "    : optimizer: TensorFlow optimizer function\n",
    "    : keep_probability: keep probability\n",
    "    : feature_batch: Batch of Numpy image data\n",
    "    : label_batch: Batch of Numpy label data\n",
    "    \"\"\"\n",
    "    feed_dict = {x : feature_batch, y : label_batch, keep_prob : keep_probability}\n",
    "    session.run([optimizer], feed_dict=feed_dict)\n",
    "    pass\n",
    "\n",
    "\n",
    "\"\"\"\n",
    "DON'T MODIFY ANYTHING IN THIS CELL THAT IS BELOW THIS LINE\n",
    "\"\"\"\n",
    "tests.test_train_nn(train_neural_network)"
   ]
  },
  {
   "cell_type": "markdown",
   "metadata": {
    "deletable": true,
    "editable": true
   },
   "source": [
    "### Show Stats\n",
    "Implement the function `print_stats` to print loss and validation accuracy.  Use the global variables `valid_features` and `valid_labels` to calculate validation accuracy.  Use a keep probability of `1.0` to calculate the loss and validation accuracy."
   ]
  },
  {
   "cell_type": "code",
   "execution_count": 48,
   "metadata": {
    "collapsed": false,
    "deletable": true,
    "editable": true
   },
   "outputs": [],
   "source": [
    "def print_stats(session, feature_batch, label_batch, cost, accuracy):\n",
    "    \"\"\"\n",
    "    Print information about loss and validation accuracy\n",
    "    : session: Current TensorFlow session\n",
    "    : feature_batch: Batch of Numpy image data\n",
    "    : label_batch: Batch of Numpy label data\n",
    "    : cost: TensorFlow cost function\n",
    "    : accuracy: TensorFlow accuracy function\n",
    "    \"\"\"\n",
    "    feed_dict = { x: valid_features, y: valid_labels, keep_prob: 1.0 }\n",
    "    cost, accuracy = session.run([cost, accuracy], feed_dict=feed_dict)\n",
    "    print(\"Cost: {:.3f}, Accuracy: {:.3f}%\".format(cost, 100*accuracy))\n",
    "    \n",
    "    pass"
   ]
  },
  {
   "cell_type": "markdown",
   "metadata": {
    "deletable": true,
    "editable": true
   },
   "source": [
    "### Hyperparameters\n",
    "Tune the following parameters:\n",
    "* Set `epochs` to the number of iterations until the network stops learning or start overfitting\n",
    "* Set `batch_size` to the highest number that your machine has memory for.  Most people set them to common sizes of memory:\n",
    " * 64\n",
    " * 128\n",
    " * 256\n",
    " * ...\n",
    "* Set `keep_probability` to the probability of keeping a node using dropout"
   ]
  },
  {
   "cell_type": "code",
   "execution_count": 49,
   "metadata": {
    "collapsed": true,
    "deletable": true,
    "editable": true
   },
   "outputs": [],
   "source": [
    "epochs = 50\n",
    "batch_size = 256\n",
    "keep_probability = 0.9"
   ]
  },
  {
   "cell_type": "markdown",
   "metadata": {
    "deletable": true,
    "editable": true
   },
   "source": [
    "### Train on a Single CIFAR-10 Batch\n",
    "Instead of training the neural network on all the CIFAR-10 batches of data, let's use a single batch. This should save time while you iterate on the model to get a better accuracy.  Once the final validation accuracy is 50% or greater, run the model on all the data in the next section."
   ]
  },
  {
   "cell_type": "code",
   "execution_count": 50,
   "metadata": {
    "collapsed": false,
    "deletable": true,
    "editable": true
   },
   "outputs": [
    {
     "name": "stdout",
     "output_type": "stream",
     "text": [
      "Checking the Training on a Single Batch...\n",
      "Epoch  1, CIFAR-10 Batch 1:  Cost: 1.968, Accuracy: 27.320%\n",
      "Epoch  2, CIFAR-10 Batch 1:  Cost: 1.736, Accuracy: 37.920%\n",
      "Epoch  3, CIFAR-10 Batch 1:  Cost: 1.661, Accuracy: 39.920%\n",
      "Epoch  4, CIFAR-10 Batch 1:  Cost: 1.629, Accuracy: 41.160%\n",
      "Epoch  5, CIFAR-10 Batch 1:  Cost: 1.597, Accuracy: 42.340%\n",
      "Epoch  6, CIFAR-10 Batch 1:  Cost: 1.568, Accuracy: 43.760%\n",
      "Epoch  7, CIFAR-10 Batch 1:  Cost: 1.542, Accuracy: 45.100%\n",
      "Epoch  8, CIFAR-10 Batch 1:  Cost: 1.522, Accuracy: 45.880%\n",
      "Epoch  9, CIFAR-10 Batch 1:  Cost: 1.505, Accuracy: 46.360%\n",
      "Epoch 10, CIFAR-10 Batch 1:  Cost: 1.491, Accuracy: 47.100%\n",
      "Epoch 11, CIFAR-10 Batch 1:  Cost: 1.478, Accuracy: 47.660%\n",
      "Epoch 12, CIFAR-10 Batch 1:  Cost: 1.467, Accuracy: 47.920%\n",
      "Epoch 13, CIFAR-10 Batch 1:  Cost: 1.457, Accuracy: 48.240%\n",
      "Epoch 14, CIFAR-10 Batch 1:  Cost: 1.448, Accuracy: 48.720%\n",
      "Epoch 15, CIFAR-10 Batch 1:  Cost: 1.440, Accuracy: 48.860%\n",
      "Epoch 16, CIFAR-10 Batch 1:  Cost: 1.434, Accuracy: 49.100%\n",
      "Epoch 17, CIFAR-10 Batch 1:  Cost: 1.428, Accuracy: 49.220%\n",
      "Epoch 18, CIFAR-10 Batch 1:  Cost: 1.424, Accuracy: 49.380%\n",
      "Epoch 19, CIFAR-10 Batch 1:  Cost: 1.420, Accuracy: 49.720%\n",
      "Epoch 20, CIFAR-10 Batch 1:  Cost: 1.417, Accuracy: 50.000%\n",
      "Epoch 21, CIFAR-10 Batch 1:  Cost: 1.415, Accuracy: 50.080%\n",
      "Epoch 22, CIFAR-10 Batch 1:  Cost: 1.412, Accuracy: 50.100%\n",
      "Epoch 23, CIFAR-10 Batch 1:  Cost: 1.410, Accuracy: 50.340%\n",
      "Epoch 24, CIFAR-10 Batch 1:  Cost: 1.410, Accuracy: 50.600%\n",
      "Epoch 25, CIFAR-10 Batch 1:  Cost: 1.408, Accuracy: 50.360%\n",
      "Epoch 26, CIFAR-10 Batch 1:  Cost: 1.408, Accuracy: 50.540%\n",
      "Epoch 27, CIFAR-10 Batch 1:  Cost: 1.407, Accuracy: 50.700%\n",
      "Epoch 28, CIFAR-10 Batch 1:  Cost: 1.407, Accuracy: 50.900%\n",
      "Epoch 29, CIFAR-10 Batch 1:  Cost: 1.406, Accuracy: 51.040%\n",
      "Epoch 30, CIFAR-10 Batch 1:  Cost: 1.407, Accuracy: 51.140%\n",
      "Epoch 31, CIFAR-10 Batch 1:  Cost: 1.408, Accuracy: 51.160%\n",
      "Epoch 32, CIFAR-10 Batch 1:  Cost: 1.408, Accuracy: 51.220%\n",
      "Epoch 33, CIFAR-10 Batch 1:  Cost: 1.408, Accuracy: 51.300%\n",
      "Epoch 34, CIFAR-10 Batch 1:  Cost: 1.409, Accuracy: 51.360%\n",
      "Epoch 35, CIFAR-10 Batch 1:  Cost: 1.411, Accuracy: 51.280%\n",
      "Epoch 36, CIFAR-10 Batch 1:  Cost: 1.414, Accuracy: 51.280%\n",
      "Epoch 37, CIFAR-10 Batch 1:  Cost: 1.417, Accuracy: 51.380%\n",
      "Epoch 38, CIFAR-10 Batch 1:  Cost: 1.420, Accuracy: 51.540%\n",
      "Epoch 39, CIFAR-10 Batch 1:  Cost: 1.423, Accuracy: 51.500%\n",
      "Epoch 40, CIFAR-10 Batch 1:  Cost: 1.429, Accuracy: 51.560%\n",
      "Epoch 41, CIFAR-10 Batch 1:  Cost: 1.432, Accuracy: 51.440%\n",
      "Epoch 42, CIFAR-10 Batch 1:  Cost: 1.435, Accuracy: 51.420%\n",
      "Epoch 43, CIFAR-10 Batch 1:  Cost: 1.439, Accuracy: 51.280%\n",
      "Epoch 44, CIFAR-10 Batch 1:  Cost: 1.444, Accuracy: 51.260%\n",
      "Epoch 45, CIFAR-10 Batch 1:  Cost: 1.447, Accuracy: 51.300%\n",
      "Epoch 46, CIFAR-10 Batch 1:  Cost: 1.451, Accuracy: 51.260%\n",
      "Epoch 47, CIFAR-10 Batch 1:  Cost: 1.454, Accuracy: 51.400%\n",
      "Epoch 48, CIFAR-10 Batch 1:  Cost: 1.458, Accuracy: 51.340%\n",
      "Epoch 49, CIFAR-10 Batch 1:  Cost: 1.461, Accuracy: 51.480%\n",
      "Epoch 50, CIFAR-10 Batch 1:  Cost: 1.463, Accuracy: 51.560%\n"
     ]
    }
   ],
   "source": [
    "\"\"\"\n",
    "DON'T MODIFY ANYTHING IN THIS CELL\n",
    "\"\"\"\n",
    "print('Checking the Training on a Single Batch...')\n",
    "with tf.Session() as sess:\n",
    "    # Initializing the variables\n",
    "    sess.run(tf.global_variables_initializer())\n",
    "    \n",
    "    # Training cycle\n",
    "    for epoch in range(epochs):\n",
    "        batch_i = 1\n",
    "        for batch_features, batch_labels in helper.load_preprocess_training_batch(batch_i, batch_size):\n",
    "            train_neural_network(sess, optimizer, keep_probability, batch_features, batch_labels)\n",
    "        print('Epoch {:>2}, CIFAR-10 Batch {}:  '.format(epoch + 1, batch_i), end='')\n",
    "        print_stats(sess, batch_features, batch_labels, cost, accuracy)"
   ]
  },
  {
   "cell_type": "markdown",
   "metadata": {
    "deletable": true,
    "editable": true
   },
   "source": [
    "### Fully Train the Model\n",
    "Now that you got a good accuracy with a single CIFAR-10 batch, try it with all five batches."
   ]
  },
  {
   "cell_type": "code",
   "execution_count": 51,
   "metadata": {
    "collapsed": false,
    "deletable": true,
    "editable": true
   },
   "outputs": [
    {
     "name": "stdout",
     "output_type": "stream",
     "text": [
      "Training...\n",
      "Epoch  1, CIFAR-10 Batch 1:  Cost: 1.919, Accuracy: 30.780%\n",
      "Epoch  1, CIFAR-10 Batch 2:  Cost: 1.756, Accuracy: 36.600%\n",
      "Epoch  1, CIFAR-10 Batch 3:  Cost: 1.700, Accuracy: 39.000%\n",
      "Epoch  1, CIFAR-10 Batch 4:  Cost: 1.625, Accuracy: 41.900%\n",
      "Epoch  1, CIFAR-10 Batch 5:  Cost: 1.580, Accuracy: 43.920%\n",
      "Epoch  2, CIFAR-10 Batch 1:  Cost: 1.573, Accuracy: 43.020%\n",
      "Epoch  2, CIFAR-10 Batch 2:  Cost: 1.538, Accuracy: 43.800%\n",
      "Epoch  2, CIFAR-10 Batch 3:  Cost: 1.549, Accuracy: 43.160%\n",
      "Epoch  2, CIFAR-10 Batch 4:  Cost: 1.500, Accuracy: 46.000%\n",
      "Epoch  2, CIFAR-10 Batch 5:  Cost: 1.470, Accuracy: 47.020%\n",
      "Epoch  3, CIFAR-10 Batch 1:  Cost: 1.478, Accuracy: 46.500%\n",
      "Epoch  3, CIFAR-10 Batch 2:  Cost: 1.458, Accuracy: 47.440%\n",
      "Epoch  3, CIFAR-10 Batch 3:  Cost: 1.480, Accuracy: 46.220%\n",
      "Epoch  3, CIFAR-10 Batch 4:  Cost: 1.443, Accuracy: 47.920%\n",
      "Epoch  3, CIFAR-10 Batch 5:  Cost: 1.410, Accuracy: 49.400%\n",
      "Epoch  4, CIFAR-10 Batch 1:  Cost: 1.425, Accuracy: 48.860%\n",
      "Epoch  4, CIFAR-10 Batch 2:  Cost: 1.414, Accuracy: 49.100%\n",
      "Epoch  4, CIFAR-10 Batch 3:  Cost: 1.430, Accuracy: 47.840%\n",
      "Epoch  4, CIFAR-10 Batch 4:  Cost: 1.402, Accuracy: 49.600%\n",
      "Epoch  4, CIFAR-10 Batch 5:  Cost: 1.373, Accuracy: 51.280%\n",
      "Epoch  5, CIFAR-10 Batch 1:  Cost: 1.391, Accuracy: 49.500%\n",
      "Epoch  5, CIFAR-10 Batch 2:  Cost: 1.385, Accuracy: 50.720%\n",
      "Epoch  5, CIFAR-10 Batch 3:  Cost: 1.390, Accuracy: 49.480%\n",
      "Epoch  5, CIFAR-10 Batch 4:  Cost: 1.371, Accuracy: 50.880%\n",
      "Epoch  5, CIFAR-10 Batch 5:  Cost: 1.348, Accuracy: 51.980%\n",
      "Epoch  6, CIFAR-10 Batch 1:  Cost: 1.369, Accuracy: 50.660%\n",
      "Epoch  6, CIFAR-10 Batch 2:  Cost: 1.369, Accuracy: 51.000%\n",
      "Epoch  6, CIFAR-10 Batch 3:  Cost: 1.361, Accuracy: 51.040%\n",
      "Epoch  6, CIFAR-10 Batch 4:  Cost: 1.347, Accuracy: 51.800%\n",
      "Epoch  6, CIFAR-10 Batch 5:  Cost: 1.331, Accuracy: 52.400%\n",
      "Epoch  7, CIFAR-10 Batch 1:  Cost: 1.352, Accuracy: 51.700%\n",
      "Epoch  7, CIFAR-10 Batch 2:  Cost: 1.354, Accuracy: 51.940%\n",
      "Epoch  7, CIFAR-10 Batch 3:  Cost: 1.338, Accuracy: 52.180%\n",
      "Epoch  7, CIFAR-10 Batch 4:  Cost: 1.328, Accuracy: 52.560%\n",
      "Epoch  7, CIFAR-10 Batch 5:  Cost: 1.318, Accuracy: 52.760%\n",
      "Epoch  8, CIFAR-10 Batch 1:  Cost: 1.336, Accuracy: 52.000%\n",
      "Epoch  8, CIFAR-10 Batch 2:  Cost: 1.338, Accuracy: 52.340%\n",
      "Epoch  8, CIFAR-10 Batch 3:  Cost: 1.314, Accuracy: 53.120%\n",
      "Epoch  8, CIFAR-10 Batch 4:  Cost: 1.312, Accuracy: 53.160%\n",
      "Epoch  8, CIFAR-10 Batch 5:  Cost: 1.309, Accuracy: 53.260%\n",
      "Epoch  9, CIFAR-10 Batch 1:  Cost: 1.327, Accuracy: 52.160%\n",
      "Epoch  9, CIFAR-10 Batch 2:  Cost: 1.325, Accuracy: 53.140%\n",
      "Epoch  9, CIFAR-10 Batch 3:  Cost: 1.299, Accuracy: 53.280%\n",
      "Epoch  9, CIFAR-10 Batch 4:  Cost: 1.297, Accuracy: 53.600%\n",
      "Epoch  9, CIFAR-10 Batch 5:  Cost: 1.301, Accuracy: 53.400%\n",
      "Epoch 10, CIFAR-10 Batch 1:  Cost: 1.312, Accuracy: 52.960%\n",
      "Epoch 10, CIFAR-10 Batch 2:  Cost: 1.311, Accuracy: 53.480%\n",
      "Epoch 10, CIFAR-10 Batch 3:  Cost: 1.290, Accuracy: 53.720%\n",
      "Epoch 10, CIFAR-10 Batch 4:  Cost: 1.288, Accuracy: 53.720%\n",
      "Epoch 10, CIFAR-10 Batch 5:  Cost: 1.294, Accuracy: 53.880%\n",
      "Epoch 11, CIFAR-10 Batch 1:  Cost: 1.304, Accuracy: 53.700%\n",
      "Epoch 11, CIFAR-10 Batch 2:  Cost: 1.299, Accuracy: 53.640%\n",
      "Epoch 11, CIFAR-10 Batch 3:  Cost: 1.283, Accuracy: 53.820%\n",
      "Epoch 11, CIFAR-10 Batch 4:  Cost: 1.278, Accuracy: 54.100%\n",
      "Epoch 11, CIFAR-10 Batch 5:  Cost: 1.288, Accuracy: 53.760%\n",
      "Epoch 12, CIFAR-10 Batch 1:  Cost: 1.295, Accuracy: 54.000%\n",
      "Epoch 12, CIFAR-10 Batch 2:  Cost: 1.292, Accuracy: 53.840%\n",
      "Epoch 12, CIFAR-10 Batch 3:  Cost: 1.276, Accuracy: 53.740%\n",
      "Epoch 12, CIFAR-10 Batch 4:  Cost: 1.274, Accuracy: 54.040%\n",
      "Epoch 12, CIFAR-10 Batch 5:  Cost: 1.283, Accuracy: 54.020%\n",
      "Epoch 13, CIFAR-10 Batch 1:  Cost: 1.291, Accuracy: 54.020%\n",
      "Epoch 13, CIFAR-10 Batch 2:  Cost: 1.288, Accuracy: 53.940%\n",
      "Epoch 13, CIFAR-10 Batch 3:  Cost: 1.270, Accuracy: 54.240%\n",
      "Epoch 13, CIFAR-10 Batch 4:  Cost: 1.267, Accuracy: 54.400%\n",
      "Epoch 13, CIFAR-10 Batch 5:  Cost: 1.277, Accuracy: 54.120%\n",
      "Epoch 14, CIFAR-10 Batch 1:  Cost: 1.290, Accuracy: 54.220%\n",
      "Epoch 14, CIFAR-10 Batch 2:  Cost: 1.283, Accuracy: 54.120%\n",
      "Epoch 14, CIFAR-10 Batch 3:  Cost: 1.266, Accuracy: 54.500%\n",
      "Epoch 14, CIFAR-10 Batch 4:  Cost: 1.265, Accuracy: 54.300%\n",
      "Epoch 14, CIFAR-10 Batch 5:  Cost: 1.269, Accuracy: 54.280%\n",
      "Epoch 15, CIFAR-10 Batch 1:  Cost: 1.288, Accuracy: 54.300%\n",
      "Epoch 15, CIFAR-10 Batch 2:  Cost: 1.280, Accuracy: 54.160%\n",
      "Epoch 15, CIFAR-10 Batch 3:  Cost: 1.263, Accuracy: 54.440%\n",
      "Epoch 15, CIFAR-10 Batch 4:  Cost: 1.262, Accuracy: 54.820%\n",
      "Epoch 15, CIFAR-10 Batch 5:  Cost: 1.264, Accuracy: 54.480%\n",
      "Epoch 16, CIFAR-10 Batch 1:  Cost: 1.284, Accuracy: 54.780%\n",
      "Epoch 16, CIFAR-10 Batch 2:  Cost: 1.271, Accuracy: 54.360%\n",
      "Epoch 16, CIFAR-10 Batch 3:  Cost: 1.258, Accuracy: 54.480%\n",
      "Epoch 16, CIFAR-10 Batch 4:  Cost: 1.262, Accuracy: 54.600%\n",
      "Epoch 16, CIFAR-10 Batch 5:  Cost: 1.260, Accuracy: 54.420%\n",
      "Epoch 17, CIFAR-10 Batch 1:  Cost: 1.281, Accuracy: 54.880%\n",
      "Epoch 17, CIFAR-10 Batch 2:  Cost: 1.263, Accuracy: 54.620%\n",
      "Epoch 17, CIFAR-10 Batch 3:  Cost: 1.255, Accuracy: 54.980%\n",
      "Epoch 17, CIFAR-10 Batch 4:  Cost: 1.263, Accuracy: 54.660%\n",
      "Epoch 17, CIFAR-10 Batch 5:  Cost: 1.256, Accuracy: 54.800%\n",
      "Epoch 18, CIFAR-10 Batch 1:  Cost: 1.276, Accuracy: 55.100%\n",
      "Epoch 18, CIFAR-10 Batch 2:  Cost: 1.258, Accuracy: 55.000%\n",
      "Epoch 18, CIFAR-10 Batch 3:  Cost: 1.251, Accuracy: 54.960%\n",
      "Epoch 18, CIFAR-10 Batch 4:  Cost: 1.261, Accuracy: 54.580%\n",
      "Epoch 18, CIFAR-10 Batch 5:  Cost: 1.250, Accuracy: 55.300%\n",
      "Epoch 19, CIFAR-10 Batch 1:  Cost: 1.270, Accuracy: 55.340%\n",
      "Epoch 19, CIFAR-10 Batch 2:  Cost: 1.252, Accuracy: 55.340%\n",
      "Epoch 19, CIFAR-10 Batch 3:  Cost: 1.248, Accuracy: 55.340%\n",
      "Epoch 19, CIFAR-10 Batch 4:  Cost: 1.262, Accuracy: 55.020%\n",
      "Epoch 19, CIFAR-10 Batch 5:  Cost: 1.245, Accuracy: 55.340%\n",
      "Epoch 20, CIFAR-10 Batch 1:  Cost: 1.263, Accuracy: 55.800%\n",
      "Epoch 20, CIFAR-10 Batch 2:  Cost: 1.254, Accuracy: 55.420%\n",
      "Epoch 20, CIFAR-10 Batch 3:  Cost: 1.246, Accuracy: 55.360%\n",
      "Epoch 20, CIFAR-10 Batch 4:  Cost: 1.261, Accuracy: 55.260%\n",
      "Epoch 20, CIFAR-10 Batch 5:  Cost: 1.243, Accuracy: 55.480%\n",
      "Epoch 21, CIFAR-10 Batch 1:  Cost: 1.259, Accuracy: 55.820%\n",
      "Epoch 21, CIFAR-10 Batch 2:  Cost: 1.250, Accuracy: 55.680%\n",
      "Epoch 21, CIFAR-10 Batch 3:  Cost: 1.243, Accuracy: 55.460%\n",
      "Epoch 21, CIFAR-10 Batch 4:  Cost: 1.262, Accuracy: 55.300%\n",
      "Epoch 21, CIFAR-10 Batch 5:  Cost: 1.241, Accuracy: 55.460%\n",
      "Epoch 22, CIFAR-10 Batch 1:  Cost: 1.253, Accuracy: 56.300%\n",
      "Epoch 22, CIFAR-10 Batch 2:  Cost: 1.251, Accuracy: 55.740%\n",
      "Epoch 22, CIFAR-10 Batch 3:  Cost: 1.241, Accuracy: 55.380%\n",
      "Epoch 22, CIFAR-10 Batch 4:  Cost: 1.260, Accuracy: 55.580%\n",
      "Epoch 22, CIFAR-10 Batch 5:  Cost: 1.240, Accuracy: 55.800%\n",
      "Epoch 23, CIFAR-10 Batch 1:  Cost: 1.251, Accuracy: 56.020%\n",
      "Epoch 23, CIFAR-10 Batch 2:  Cost: 1.250, Accuracy: 55.940%\n",
      "Epoch 23, CIFAR-10 Batch 3:  Cost: 1.239, Accuracy: 55.480%\n",
      "Epoch 23, CIFAR-10 Batch 4:  Cost: 1.260, Accuracy: 55.520%\n",
      "Epoch 23, CIFAR-10 Batch 5:  Cost: 1.238, Accuracy: 56.060%\n",
      "Epoch 24, CIFAR-10 Batch 1:  Cost: 1.249, Accuracy: 56.020%\n",
      "Epoch 24, CIFAR-10 Batch 2:  Cost: 1.252, Accuracy: 56.080%\n",
      "Epoch 24, CIFAR-10 Batch 3:  Cost: 1.238, Accuracy: 55.660%\n",
      "Epoch 24, CIFAR-10 Batch 4:  Cost: 1.257, Accuracy: 55.460%\n",
      "Epoch 24, CIFAR-10 Batch 5:  Cost: 1.236, Accuracy: 55.960%\n",
      "Epoch 25, CIFAR-10 Batch 1:  Cost: 1.248, Accuracy: 56.160%\n",
      "Epoch 25, CIFAR-10 Batch 2:  Cost: 1.259, Accuracy: 55.960%\n",
      "Epoch 25, CIFAR-10 Batch 3:  Cost: 1.239, Accuracy: 55.540%\n",
      "Epoch 25, CIFAR-10 Batch 4:  Cost: 1.255, Accuracy: 55.700%\n",
      "Epoch 25, CIFAR-10 Batch 5:  Cost: 1.239, Accuracy: 55.980%\n",
      "Epoch 26, CIFAR-10 Batch 1:  Cost: 1.244, Accuracy: 56.400%\n",
      "Epoch 26, CIFAR-10 Batch 2:  Cost: 1.259, Accuracy: 55.840%\n",
      "Epoch 26, CIFAR-10 Batch 3:  Cost: 1.240, Accuracy: 55.460%\n",
      "Epoch 26, CIFAR-10 Batch 4:  Cost: 1.246, Accuracy: 56.100%\n",
      "Epoch 26, CIFAR-10 Batch 5:  Cost: 1.240, Accuracy: 55.980%\n",
      "Epoch 27, CIFAR-10 Batch 1:  Cost: 1.238, Accuracy: 56.880%\n",
      "Epoch 27, CIFAR-10 Batch 2:  Cost: 1.262, Accuracy: 55.760%\n",
      "Epoch 27, CIFAR-10 Batch 3:  Cost: 1.246, Accuracy: 55.440%\n",
      "Epoch 27, CIFAR-10 Batch 4:  Cost: 1.239, Accuracy: 56.400%\n",
      "Epoch 27, CIFAR-10 Batch 5:  Cost: 1.241, Accuracy: 56.180%\n",
      "Epoch 28, CIFAR-10 Batch 1:  Cost: 1.229, Accuracy: 57.040%\n",
      "Epoch 28, CIFAR-10 Batch 2:  Cost: 1.265, Accuracy: 55.740%\n",
      "Epoch 28, CIFAR-10 Batch 3:  Cost: 1.248, Accuracy: 55.420%\n",
      "Epoch 28, CIFAR-10 Batch 4:  Cost: 1.234, Accuracy: 56.480%\n",
      "Epoch 28, CIFAR-10 Batch 5:  Cost: 1.238, Accuracy: 56.400%\n",
      "Epoch 29, CIFAR-10 Batch 1:  Cost: 1.229, Accuracy: 57.060%\n",
      "Epoch 29, CIFAR-10 Batch 2:  Cost: 1.262, Accuracy: 55.820%\n",
      "Epoch 29, CIFAR-10 Batch 3:  Cost: 1.242, Accuracy: 55.780%\n",
      "Epoch 29, CIFAR-10 Batch 4:  Cost: 1.238, Accuracy: 56.460%\n",
      "Epoch 29, CIFAR-10 Batch 5:  Cost: 1.235, Accuracy: 56.380%\n",
      "Epoch 30, CIFAR-10 Batch 1:  Cost: 1.227, Accuracy: 57.240%\n",
      "Epoch 30, CIFAR-10 Batch 2:  Cost: 1.261, Accuracy: 55.960%\n",
      "Epoch 30, CIFAR-10 Batch 3:  Cost: 1.240, Accuracy: 55.960%\n",
      "Epoch 30, CIFAR-10 Batch 4:  Cost: 1.238, Accuracy: 56.260%\n",
      "Epoch 30, CIFAR-10 Batch 5:  Cost: 1.238, Accuracy: 56.380%\n",
      "Epoch 31, CIFAR-10 Batch 1:  Cost: 1.227, Accuracy: 57.200%\n",
      "Epoch 31, CIFAR-10 Batch 2:  Cost: 1.259, Accuracy: 55.940%\n",
      "Epoch 31, CIFAR-10 Batch 3:  Cost: 1.239, Accuracy: 55.840%\n",
      "Epoch 31, CIFAR-10 Batch 4:  Cost: 1.240, Accuracy: 56.280%\n",
      "Epoch 31, CIFAR-10 Batch 5:  Cost: 1.237, Accuracy: 56.260%\n",
      "Epoch 32, CIFAR-10 Batch 1:  Cost: 1.229, Accuracy: 57.040%\n",
      "Epoch 32, CIFAR-10 Batch 2:  Cost: 1.259, Accuracy: 55.920%\n",
      "Epoch 32, CIFAR-10 Batch 3:  Cost: 1.241, Accuracy: 55.940%\n",
      "Epoch 32, CIFAR-10 Batch 4:  Cost: 1.240, Accuracy: 56.560%\n",
      "Epoch 32, CIFAR-10 Batch 5:  Cost: 1.238, Accuracy: 56.300%\n",
      "Epoch 33, CIFAR-10 Batch 1:  Cost: 1.222, Accuracy: 57.280%\n",
      "Epoch 33, CIFAR-10 Batch 2:  Cost: 1.257, Accuracy: 56.200%\n",
      "Epoch 33, CIFAR-10 Batch 3:  Cost: 1.244, Accuracy: 56.040%\n",
      "Epoch 33, CIFAR-10 Batch 4:  Cost: 1.241, Accuracy: 56.680%\n",
      "Epoch 33, CIFAR-10 Batch 5:  Cost: 1.236, Accuracy: 56.620%\n",
      "Epoch 34, CIFAR-10 Batch 1:  Cost: 1.219, Accuracy: 57.300%\n",
      "Epoch 34, CIFAR-10 Batch 2:  Cost: 1.257, Accuracy: 56.240%\n",
      "Epoch 34, CIFAR-10 Batch 3:  Cost: 1.240, Accuracy: 56.340%\n",
      "Epoch 34, CIFAR-10 Batch 4:  Cost: 1.238, Accuracy: 56.720%\n",
      "Epoch 34, CIFAR-10 Batch 5:  Cost: 1.236, Accuracy: 56.680%\n",
      "Epoch 35, CIFAR-10 Batch 1:  Cost: 1.218, Accuracy: 57.540%\n",
      "Epoch 35, CIFAR-10 Batch 2:  Cost: 1.259, Accuracy: 56.300%\n",
      "Epoch 35, CIFAR-10 Batch 3:  Cost: 1.239, Accuracy: 56.540%\n",
      "Epoch 35, CIFAR-10 Batch 4:  Cost: 1.239, Accuracy: 56.640%\n",
      "Epoch 35, CIFAR-10 Batch 5:  Cost: 1.236, Accuracy: 56.480%\n",
      "Epoch 36, CIFAR-10 Batch 1:  Cost: 1.216, Accuracy: 57.580%\n",
      "Epoch 36, CIFAR-10 Batch 2:  Cost: 1.255, Accuracy: 56.260%\n",
      "Epoch 36, CIFAR-10 Batch 3:  Cost: 1.239, Accuracy: 56.400%\n",
      "Epoch 36, CIFAR-10 Batch 4:  Cost: 1.240, Accuracy: 56.660%\n",
      "Epoch 36, CIFAR-10 Batch 5:  Cost: 1.237, Accuracy: 56.580%\n",
      "Epoch 37, CIFAR-10 Batch 1:  Cost: 1.215, Accuracy: 57.640%\n",
      "Epoch 37, CIFAR-10 Batch 2:  Cost: 1.250, Accuracy: 56.540%\n",
      "Epoch 37, CIFAR-10 Batch 3:  Cost: 1.238, Accuracy: 56.400%\n",
      "Epoch 37, CIFAR-10 Batch 4:  Cost: 1.241, Accuracy: 56.720%\n",
      "Epoch 37, CIFAR-10 Batch 5:  Cost: 1.235, Accuracy: 56.800%\n",
      "Epoch 38, CIFAR-10 Batch 1:  Cost: 1.216, Accuracy: 57.820%\n",
      "Epoch 38, CIFAR-10 Batch 2:  Cost: 1.247, Accuracy: 56.760%\n",
      "Epoch 38, CIFAR-10 Batch 3:  Cost: 1.240, Accuracy: 56.360%\n",
      "Epoch 38, CIFAR-10 Batch 4:  Cost: 1.246, Accuracy: 56.560%\n",
      "Epoch 38, CIFAR-10 Batch 5:  Cost: 1.233, Accuracy: 57.080%\n",
      "Epoch 39, CIFAR-10 Batch 1:  Cost: 1.218, Accuracy: 57.640%\n",
      "Epoch 39, CIFAR-10 Batch 2:  Cost: 1.246, Accuracy: 56.980%\n",
      "Epoch 39, CIFAR-10 Batch 3:  Cost: 1.240, Accuracy: 56.300%\n",
      "Epoch 39, CIFAR-10 Batch 4:  Cost: 1.246, Accuracy: 56.640%\n",
      "Epoch 39, CIFAR-10 Batch 5:  Cost: 1.231, Accuracy: 57.060%\n",
      "Epoch 40, CIFAR-10 Batch 1:  Cost: 1.219, Accuracy: 57.720%\n",
      "Epoch 40, CIFAR-10 Batch 2:  Cost: 1.247, Accuracy: 57.080%\n",
      "Epoch 40, CIFAR-10 Batch 3:  Cost: 1.239, Accuracy: 56.120%\n",
      "Epoch 40, CIFAR-10 Batch 4:  Cost: 1.249, Accuracy: 56.800%\n",
      "Epoch 40, CIFAR-10 Batch 5:  Cost: 1.233, Accuracy: 57.060%\n",
      "Epoch 41, CIFAR-10 Batch 1:  Cost: 1.220, Accuracy: 57.660%\n",
      "Epoch 41, CIFAR-10 Batch 2:  Cost: 1.248, Accuracy: 57.160%\n",
      "Epoch 41, CIFAR-10 Batch 3:  Cost: 1.241, Accuracy: 56.260%\n",
      "Epoch 41, CIFAR-10 Batch 4:  Cost: 1.248, Accuracy: 56.780%\n",
      "Epoch 41, CIFAR-10 Batch 5:  Cost: 1.236, Accuracy: 57.000%\n",
      "Epoch 42, CIFAR-10 Batch 1:  Cost: 1.220, Accuracy: 57.660%\n",
      "Epoch 42, CIFAR-10 Batch 2:  Cost: 1.248, Accuracy: 56.860%\n",
      "Epoch 42, CIFAR-10 Batch 3:  Cost: 1.239, Accuracy: 56.320%\n",
      "Epoch 42, CIFAR-10 Batch 4:  Cost: 1.249, Accuracy: 56.740%\n",
      "Epoch 42, CIFAR-10 Batch 5:  Cost: 1.239, Accuracy: 56.960%\n",
      "Epoch 43, CIFAR-10 Batch 1:  Cost: 1.221, Accuracy: 57.640%\n",
      "Epoch 43, CIFAR-10 Batch 2:  Cost: 1.248, Accuracy: 57.140%\n",
      "Epoch 43, CIFAR-10 Batch 3:  Cost: 1.239, Accuracy: 56.680%\n",
      "Epoch 43, CIFAR-10 Batch 4:  Cost: 1.247, Accuracy: 56.820%\n",
      "Epoch 43, CIFAR-10 Batch 5:  Cost: 1.241, Accuracy: 57.020%\n",
      "Epoch 44, CIFAR-10 Batch 1:  Cost: 1.221, Accuracy: 57.720%\n",
      "Epoch 44, CIFAR-10 Batch 2:  Cost: 1.249, Accuracy: 57.180%\n",
      "Epoch 44, CIFAR-10 Batch 3:  Cost: 1.237, Accuracy: 56.660%\n",
      "Epoch 44, CIFAR-10 Batch 4:  Cost: 1.246, Accuracy: 57.060%\n",
      "Epoch 44, CIFAR-10 Batch 5:  Cost: 1.243, Accuracy: 56.940%\n",
      "Epoch 45, CIFAR-10 Batch 1:  Cost: 1.222, Accuracy: 57.620%\n",
      "Epoch 45, CIFAR-10 Batch 2:  Cost: 1.252, Accuracy: 57.020%\n",
      "Epoch 45, CIFAR-10 Batch 3:  Cost: 1.236, Accuracy: 56.740%\n",
      "Epoch 45, CIFAR-10 Batch 4:  Cost: 1.243, Accuracy: 57.000%\n",
      "Epoch 45, CIFAR-10 Batch 5:  Cost: 1.245, Accuracy: 56.660%\n",
      "Epoch 46, CIFAR-10 Batch 1:  Cost: 1.221, Accuracy: 57.700%\n",
      "Epoch 46, CIFAR-10 Batch 2:  Cost: 1.252, Accuracy: 57.100%\n",
      "Epoch 46, CIFAR-10 Batch 3:  Cost: 1.237, Accuracy: 56.480%\n",
      "Epoch 46, CIFAR-10 Batch 4:  Cost: 1.245, Accuracy: 56.980%\n",
      "Epoch 46, CIFAR-10 Batch 5:  Cost: 1.247, Accuracy: 56.840%\n",
      "Epoch 47, CIFAR-10 Batch 1:  Cost: 1.221, Accuracy: 57.700%\n",
      "Epoch 47, CIFAR-10 Batch 2:  Cost: 1.252, Accuracy: 57.260%\n",
      "Epoch 47, CIFAR-10 Batch 3:  Cost: 1.238, Accuracy: 56.460%\n",
      "Epoch 47, CIFAR-10 Batch 4:  Cost: 1.244, Accuracy: 56.960%\n",
      "Epoch 47, CIFAR-10 Batch 5:  Cost: 1.251, Accuracy: 56.600%\n",
      "Epoch 48, CIFAR-10 Batch 1:  Cost: 1.221, Accuracy: 57.840%\n",
      "Epoch 48, CIFAR-10 Batch 2:  Cost: 1.251, Accuracy: 56.960%\n",
      "Epoch 48, CIFAR-10 Batch 3:  Cost: 1.239, Accuracy: 56.520%\n",
      "Epoch 48, CIFAR-10 Batch 4:  Cost: 1.243, Accuracy: 57.060%\n",
      "Epoch 48, CIFAR-10 Batch 5:  Cost: 1.251, Accuracy: 56.720%\n",
      "Epoch 49, CIFAR-10 Batch 1:  Cost: 1.222, Accuracy: 57.920%\n",
      "Epoch 49, CIFAR-10 Batch 2:  Cost: 1.252, Accuracy: 56.880%\n",
      "Epoch 49, CIFAR-10 Batch 3:  Cost: 1.242, Accuracy: 56.540%\n",
      "Epoch 49, CIFAR-10 Batch 4:  Cost: 1.242, Accuracy: 57.040%\n",
      "Epoch 49, CIFAR-10 Batch 5:  Cost: 1.253, Accuracy: 56.680%\n",
      "Epoch 50, CIFAR-10 Batch 1:  Cost: 1.222, Accuracy: 58.140%\n",
      "Epoch 50, CIFAR-10 Batch 2:  Cost: 1.251, Accuracy: 57.080%\n",
      "Epoch 50, CIFAR-10 Batch 3:  Cost: 1.241, Accuracy: 56.640%\n",
      "Epoch 50, CIFAR-10 Batch 4:  Cost: 1.242, Accuracy: 56.960%\n",
      "Epoch 50, CIFAR-10 Batch 5:  Cost: 1.252, Accuracy: 56.700%\n"
     ]
    }
   ],
   "source": [
    "\"\"\"\n",
    "DON'T MODIFY ANYTHING IN THIS CELL\n",
    "\"\"\"\n",
    "save_model_path = './image_classification'\n",
    "\n",
    "print('Training...')\n",
    "with tf.Session() as sess:\n",
    "    # Initializing the variables\n",
    "    sess.run(tf.global_variables_initializer())\n",
    "    \n",
    "    # Training cycle\n",
    "    for epoch in range(epochs):\n",
    "        # Loop over all batches\n",
    "        n_batches = 5\n",
    "        for batch_i in range(1, n_batches + 1):\n",
    "            for batch_features, batch_labels in helper.load_preprocess_training_batch(batch_i, batch_size):\n",
    "                train_neural_network(sess, optimizer, keep_probability, batch_features, batch_labels)\n",
    "            print('Epoch {:>2}, CIFAR-10 Batch {}:  '.format(epoch + 1, batch_i), end='')\n",
    "            print_stats(sess, batch_features, batch_labels, cost, accuracy)\n",
    "            \n",
    "    # Save Model\n",
    "    saver = tf.train.Saver()\n",
    "    save_path = saver.save(sess, save_model_path)"
   ]
  },
  {
   "cell_type": "markdown",
   "metadata": {
    "deletable": true,
    "editable": true
   },
   "source": [
    "# Checkpoint\n",
    "The model has been saved to disk.\n",
    "## Test Model\n",
    "Test your model against the test dataset.  This will be your final accuracy. You should have an accuracy greater than 50%. If you don't, keep tweaking the model architecture and parameters."
   ]
  },
  {
   "cell_type": "code",
   "execution_count": 52,
   "metadata": {
    "collapsed": false,
    "deletable": true,
    "editable": true
   },
   "outputs": [
    {
     "name": "stdout",
     "output_type": "stream",
     "text": [
      "Testing Accuracy: 0.57421875\n",
      "\n"
     ]
    },
    {
     "data": {
      "image/png": "[encoded data removed]",
      "text/plain": [
       "<matplotlib.figure.Figure at 0x7fd1851c1940>"
      ]
     },
     "metadata": {
      "image/png": {
       "height": 319,
       "width": 355
      }
     },
     "output_type": "display_data"
    }
   ],
   "source": [
    "\"\"\"\n",
    "DON'T MODIFY ANYTHING IN THIS CELL\n",
    "\"\"\"\n",
    "%matplotlib inline\n",
    "%config InlineBackend.figure_format = 'retina'\n",
    "\n",
    "import tensorflow as tf\n",
    "import pickle\n",
    "import helper\n",
    "import random\n",
    "\n",
    "# Set batch size if not already set\n",
    "try:\n",
    "    if batch_size:\n",
    "        pass\n",
    "except NameError:\n",
    "    batch_size = 64\n",
    "\n",
    "save_model_path = './image_classification'\n",
    "n_samples = 4\n",
    "top_n_predictions = 3\n",
    "\n",
    "def test_model():\n",
    "    \"\"\"\n",
    "    Test the saved model against the test dataset\n",
    "    \"\"\"\n",
    "\n",
    "    test_features, test_labels = pickle.load(open('preprocess_training.p', mode='rb'))\n",
    "    loaded_graph = tf.Graph()\n",
    "\n",
    "    with tf.Session(graph=loaded_graph) as sess:\n",
    "        # Load model\n",
    "        loader = tf.train.import_meta_graph(save_model_path + '.meta')\n",
    "        loader.restore(sess, save_model_path)\n",
    "\n",
    "        # Get Tensors from loaded model\n",
    "        loaded_x = loaded_graph.get_tensor_by_name('x:0')\n",
    "        loaded_y = loaded_graph.get_tensor_by_name('y:0')\n",
    "        loaded_keep_prob = loaded_graph.get_tensor_by_name('keep_prob:0')\n",
    "        loaded_logits = loaded_graph.get_tensor_by_name('logits:0')\n",
    "        loaded_acc = loaded_graph.get_tensor_by_name('accuracy:0')\n",
    "        \n",
    "        # Get accuracy in batches for memory limitations\n",
    "        test_batch_acc_total = 0\n",
    "        test_batch_count = 0\n",
    "        \n",
    "        for train_feature_batch, train_label_batch in helper.batch_features_labels(test_features, test_labels, batch_size):\n",
    "            test_batch_acc_total += sess.run(\n",
    "                loaded_acc,\n",
    "                feed_dict={loaded_x: train_feature_batch, loaded_y: train_label_batch, loaded_keep_prob: 1.0})\n",
    "            test_batch_count += 1\n",
    "\n",
    "        print('Testing Accuracy: {}\\n'.format(test_batch_acc_total/test_batch_count))\n",
    "\n",
    "        # Print Random Samples\n",
    "        random_test_features, random_test_labels = tuple(zip(*random.sample(list(zip(test_features, test_labels)), n_samples)))\n",
    "        random_test_predictions = sess.run(\n",
    "            tf.nn.top_k(tf.nn.softmax(loaded_logits), top_n_predictions),\n",
    "            feed_dict={loaded_x: random_test_features, loaded_y: random_test_labels, loaded_keep_prob: 1.0})\n",
    "        helper.display_image_predictions(random_test_features, random_test_labels, random_test_predictions)\n",
    "\n",
    "\n",
    "test_model()"
   ]
  },
  {
   "cell_type": "markdown",
   "metadata": {
    "deletable": true,
    "editable": true
   },
   "source": [
    "## Why 50-80% Accuracy?\n",
    "You might be wondering why you can't get an accuracy any higher. First things first, 50% isn't bad for a simple CNN.  Pure guessing would get you 10% accuracy. That's because there are many more techniques that can be applied to your model and we recemmond that once you are done with this project, you explore!\n",
    "\n",
    "## Submitting This Project\n",
    "When submitting this project, make sure to run all the cells before saving the notebook.  Save the notebook file as \"image_classification.ipynb\" and save it as a HTML file under \"File\" -> \"Download as\".  Include the \"helper.py\" and \"problem_unittests.py\" files in your submission."
   ]
  }
 ],
 "metadata": {
  "kernelspec": {
   "display_name": "Python 3",
   "language": "python",
   "name": "python3"
  },
  "language_info": {
   "codemirror_mode": {
    "name": "ipython",
    "version": 3
   },
   "file_extension": ".py",
   "mimetype": "text/x-python",
   "name": "python",
   "nbconvert_exporter": "python",
   "pygments_lexer": "ipython3",
   "version": "3.5.3"
  }
 },
 "nbformat": 4,
 "nbformat_minor": 0
}
